{
 "cells": [
  {
   "cell_type": "code",
   "execution_count": 2,
   "metadata": {},
   "outputs": [
    {
     "name": "stdout",
     "output_type": "stream",
     "text": [
      "<class 'pandas.core.frame.DataFrame'>\n",
      "RangeIndex: 223469 entries, 0 to 223468\n",
      "Data columns (total 5 columns):\n",
      " #   Column   Non-Null Count   Dtype  \n",
      "---  ------   --------------   -----  \n",
      " 0   id       223469 non-null  int64  \n",
      " 1   license  223469 non-null  object \n",
      " 2   county   223469 non-null  object \n",
      " 3   fips     211808 non-null  float64\n",
      " 4   name     223469 non-null  object \n",
      "dtypes: float64(1), int64(1), object(3)\n",
      "memory usage: 8.5+ MB\n"
     ]
    }
   ],
   "source": [
    "import pandas as pd\n",
    "\n",
    "data = pd.read_csv(\"texas-electricians.csv\")\n",
    "data.info()"
   ]
  },
  {
   "cell_type": "code",
   "execution_count": 4,
   "metadata": {},
   "outputs": [
    {
     "data": {
      "text/html": [
       "<div>\n",
       "<style scoped>\n",
       "    .dataframe tbody tr th:only-of-type {\n",
       "        vertical-align: middle;\n",
       "    }\n",
       "\n",
       "    .dataframe tbody tr th {\n",
       "        vertical-align: top;\n",
       "    }\n",
       "\n",
       "    .dataframe thead th {\n",
       "        text-align: right;\n",
       "    }\n",
       "</style>\n",
       "<table border=\"1\" class=\"dataframe\">\n",
       "  <thead>\n",
       "    <tr style=\"text-align: right;\">\n",
       "      <th></th>\n",
       "      <th>id</th>\n",
       "      <th>license</th>\n",
       "      <th>county</th>\n",
       "      <th>fips</th>\n",
       "      <th>name</th>\n",
       "    </tr>\n",
       "  </thead>\n",
       "  <tbody>\n",
       "    <tr>\n",
       "      <th>0</th>\n",
       "      <td>1</td>\n",
       "      <td>Apprentice Electrician</td>\n",
       "      <td>ANDERSON</td>\n",
       "      <td>48001.0</td>\n",
       "      <td>LUNA, MARIO MUNOZ</td>\n",
       "    </tr>\n",
       "    <tr>\n",
       "      <th>1</th>\n",
       "      <td>2</td>\n",
       "      <td>Apprentice Electrician</td>\n",
       "      <td>ANDERSON</td>\n",
       "      <td>48001.0</td>\n",
       "      <td>INGLE, LOGAN LEE</td>\n",
       "    </tr>\n",
       "    <tr>\n",
       "      <th>2</th>\n",
       "      <td>3</td>\n",
       "      <td>Apprentice Electrician</td>\n",
       "      <td>ANDERSON</td>\n",
       "      <td>48001.0</td>\n",
       "      <td>HUNT, KERRY J</td>\n",
       "    </tr>\n",
       "    <tr>\n",
       "      <th>3</th>\n",
       "      <td>4</td>\n",
       "      <td>Apprentice Electrician</td>\n",
       "      <td>ANDERSON</td>\n",
       "      <td>48001.0</td>\n",
       "      <td>VALLEJO, WILLIAM</td>\n",
       "    </tr>\n",
       "    <tr>\n",
       "      <th>4</th>\n",
       "      <td>5</td>\n",
       "      <td>Apprentice Electrician</td>\n",
       "      <td>ANDERSON</td>\n",
       "      <td>48001.0</td>\n",
       "      <td>CASTILLO, JOSE F</td>\n",
       "    </tr>\n",
       "  </tbody>\n",
       "</table>\n",
       "</div>"
      ],
      "text/plain": [
       "   id                 license    county     fips               name\n",
       "0   1  Apprentice Electrician  ANDERSON  48001.0  LUNA, MARIO MUNOZ\n",
       "1   2  Apprentice Electrician  ANDERSON  48001.0   INGLE, LOGAN LEE\n",
       "2   3  Apprentice Electrician  ANDERSON  48001.0      HUNT, KERRY J\n",
       "3   4  Apprentice Electrician  ANDERSON  48001.0   VALLEJO, WILLIAM\n",
       "4   5  Apprentice Electrician  ANDERSON  48001.0   CASTILLO, JOSE F"
      ]
     },
     "execution_count": 4,
     "metadata": {},
     "output_type": "execute_result"
    }
   ],
   "source": [
    "data.head()"
   ]
  },
  {
   "cell_type": "code",
   "execution_count": 5,
   "metadata": {},
   "outputs": [],
   "source": [
    "data.to_excel(\"ElectriciansTX.xlsx\")"
   ]
  }
 ],
 "metadata": {
  "kernelspec": {
   "display_name": "myenv",
   "language": "python",
   "name": "python3"
  },
  "language_info": {
   "codemirror_mode": {
    "name": "ipython",
    "version": 3
   },
   "file_extension": ".py",
   "mimetype": "text/x-python",
   "name": "python",
   "nbconvert_exporter": "python",
   "pygments_lexer": "ipython3",
   "version": "3.11.4"
  }
 },
 "nbformat": 4,
 "nbformat_minor": 2
}
